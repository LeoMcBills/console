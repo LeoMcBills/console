{
 "cells": [
  {
   "cell_type": "code",
   "execution_count": 1,
   "metadata": {},
   "outputs": [
    {
     "name": "stdout",
     "output_type": "stream",
     "text": [
      "1.25.0\n"
     ]
    }
   ],
   "source": [
    "import matplotlib.pyplot as plt\n",
    "from nibabel.viewers import OrthoSlicer3D\n",
    "import ismrmrd\n",
    "import numpy as np\n",
    "print(np.__version__)\n",
    "import csv\n",
    "import pandas as pd\n",
    "import os\n",
    "import sys\n",
    "\n",
    "sys.path.append(\"../\")\n",
    "sys.path.append(\"/opt/mri4all/console/external\")\n",
    "\n",
    "import sigpy as sp"
   ]
  },
  {
   "cell_type": "code",
   "execution_count": null,
   "metadata": {},
   "outputs": [],
   "source": [
    "'''Read the numpy files'''\n",
    "file_yx = np.load('/vagrant/sample_files/axial_circshift_1yz.npy')\n",
    "file_zx = np.load('/vagrant/sample_files/coronal_circshift_1zx.npy')\n",
    "file_xy = np.load('/vagrant/sample_files/sagittal_circshift_1yx.npy')\n",
    "\n",
    "sample_k_data = pd.read_csv('/vagrant/sample_files/data3.csv')\n",
    "testdata = np.load('/vagrant/sample_files/test_data_kspace_d1s1.npy')"
   ]
  },
  {
   "cell_type": "code",
   "execution_count": null,
   "metadata": {},
   "outputs": [],
   "source": [
    "sample_k_data\n",
    "k_np = np.asarray(sample_k_data)\n",
    "type(testdata)\n",
    "testdata.shape"
   ]
  },
  {
   "cell_type": "code",
   "execution_count": null,
   "metadata": {},
   "outputs": [],
   "source": [
    "# plt.figure()\n",
    "# plt.imshow(np.abs(testdata[:,:,15]))\n",
    "# plt.show()\n",
    "\n",
    "# f = np.fft.fftshift(np.fft.fftn(np.fft.fftshift(testdata)))\n",
    "# plt.figure()\n",
    "# plt.imshow(np.abs(f[:,:,15]))\n",
    "# plt.show()\n",
    "\n",
    "\n",
    "s = sp.fft(testdata)\n",
    "plt.figure()\n",
    "plt.imshow(np.abs(s[:,:,15]))\n",
    "plt.show()"
   ]
  },
  {
   "cell_type": "code",
   "execution_count": null,
   "metadata": {},
   "outputs": [],
   "source": [
    "final_arr = np.expand_dims(testdata, axis=-1)\n",
    "final_arr.shape\n",
    "final_arr = sp.fft(final_arr)\n",
    "# plt.figure()\n",
    "# plt.imshow(np.abs(final_arr[:,:,15]))\n",
    "# plt.show()\n",
    "# te = 32\n",
    "# for _ in range(te):\n",
    "#     s = sp.fft(final_arr)"
   ]
  },
  {
   "cell_type": "code",
   "execution_count": null,
   "metadata": {},
   "outputs": [],
   "source": [
    "final_arr[...,0]\n"
   ]
  },
  {
   "cell_type": "code",
   "execution_count": null,
   "metadata": {},
   "outputs": [],
   "source": [
    "final_arr = np.empty_like(final_arr)\n",
    "te = 4\n",
    "\n",
    "'''Raise error if Ndim is not 3 or 4'''\n",
    "if final_arr.ndim<3 or final_arr.ndim > 4 :\n",
    "    print(\"Invalid shape of B0 data, expected 3 or 4 but got\", np.ndim(final_arr))\n",
    "elif final_arr.ndim==3:\n",
    "    final_arr = np.expand_dims(final_arr, axis=-1)\n",
    "\n",
    "for _ in range(final_arr.shape[-1]):\n",
    "        slice_data = final_arr[:,:,:,_] \n",
    "        result = sp.fft(slice_data)\n",
    "        np.append(final_arr, result)\n",
    "        \n",
    "final_arr.shape"
   ]
  },
  {
   "cell_type": "code",
   "execution_count": null,
   "metadata": {},
   "outputs": [],
   "source": [
    "def fft(x):\n",
    "    '''Computes the Fast Fourier Transform'''\n",
    "    # s = np.fft.fftshift(np.fft.fftn(np.fft.fftshift(x, axes=(0,1,2)), axes=(0,1,2)), axes=(0,1,2))\n",
    "    # f = np.fft.fftshift(np.fft.fftn(np.fft.fftshift(x)))\n",
    "    s = sp.fft(x, norm='ortho')\n",
    "\n",
    "    return s\n",
    "\n",
    "def kspace2img(k_space):\n",
    "    '''Reconstruct K-space data to image space takes in a 3D (or multislice 2D kspace)\n",
    "    \n",
    "    Parameters\n",
    "    ----------\n",
    "    k_space : numpy.ndarray\n",
    "        K-space data in frequency domain\n",
    "        \n",
    "    Returns\n",
    "    -------\n",
    "    reconstructed_img : numpy.ndarray\n",
    "        Reconstructed data in image domain'''\n",
    "    \n",
    "    reconstructed_img = fft(k_space)\n",
    "    \n",
    "    return reconstructed_img"
   ]
  },
  {
   "cell_type": "code",
   "execution_count": null,
   "metadata": {},
   "outputs": [],
   "source": [
    "# read in numpy array that comes from the scanner\n",
    "# initalise output_im = np.empty((100,100,100,100))\n",
    "# check how many dimensions it has\n",
    "        # for te = 1:num_echoes:\n",
    "        #     output_im(TE,:) = kspace2img(numpy_array[TE,:])\n",
    "\n",
    "\n",
    "# def final_recon(B0_corr):\n",
    "#     '''Checks for the input dimensions and outputs final reconstructed image\n",
    "    \n",
    "#     Parameters\n",
    "#     ----------\n",
    "#     B0_corr : numpy.ndarray\n",
    "#         B0_corrected data in frequency domain\n",
    "\n",
    "#     te      : int\n",
    "#         echotime\n",
    "        \n",
    "#     Returns\n",
    "#     -------\n",
    "#     final_arr : numpy.ndarray\n",
    "#         Reconstructed data in image domain'''\n",
    "\n",
    "#     '''Check the shape'''\n",
    "\n",
    "shape=(5,5,2,2)\n",
    "rand_k= np.random.normal(0, 1, size=shape)+1j*np.random.normal(0,1, size=shape)\n",
    "# img = final_recon(rand_k)\n",
    "\n",
    "B0_corr = rand_k\n",
    "final_arr = np.empty_like(B0_corr)\n",
    "\n",
    "'''Raise error if Ndim is not 3 or 4'''\n",
    "if final_arr.ndim<3 or final_arr.ndim > 4 :\n",
    "    print(\"Invalid shape of B0 data, expected 3 or 4 but got\", np.ndim(B0_corr))\n",
    "elif final_arr.ndim==3:\n",
    "    final_arr = np.expand_dims(final_arr, axis=-1)\n",
    "\n",
    "for _ in range(final_arr.shape[-1]):\n",
    "    slice_data = final_arr[:,:,:,_] \n",
    "    fft_output = sp.fft(slice_data)\n",
    "    np.append(final_arr, fft_output)\n",
    "    # return final_arr\n",
    "\n",
    "final_arr[:,:,:,1]\n"
   ]
  },
  {
   "cell_type": "code",
   "execution_count": null,
   "metadata": {},
   "outputs": [],
   "source": [
    "shape=(5,5,2,2)\n",
    "rand_k= np.random.normal(0, 1, size=shape)+1j*np.random.normal(0,1, size=shape)\n",
    "img = final_recon(rand_k)"
   ]
  },
  {
   "cell_type": "code",
   "execution_count": null,
   "metadata": {},
   "outputs": [],
   "source": [
    "img = ismrmrd.Image()\n",
    "f = ismrmrd.Dataset('./testdata.h5', '/dataset', True)\n",
    "print( f._file)"
   ]
  },
  {
   "cell_type": "code",
   "execution_count": null,
   "metadata": {},
   "outputs": [],
   "source": [
    "'''K-Space to image space'''\n",
    "def kspace2img(k_space):\n",
    "    '''Reconstruct K-space data to image space'''\n",
    "    reconstructed_img = np.fft.fftshift(np.fft.fftn(np.fft.fftshift(kspace)))\n",
    "    return reconstructed_img\n"
   ]
  },
  {
   "cell_type": "code",
   "execution_count": null,
   "metadata": {},
   "outputs": [],
   "source": [
    "img = kspace2img(kspace)\n",
    "np.shape(img)\n"
   ]
  },
  {
   "cell_type": "code",
   "execution_count": null,
   "metadata": {},
   "outputs": [],
   "source": [
    "# OrthoSlicer3D((np.abs(img))).show()\n",
    "plt.figure()\n",
    "plt.imshow(np.abs(img[:,:,15]))\n",
    "plt.show()"
   ]
  },
  {
   "cell_type": "code",
   "execution_count": 8,
   "metadata": {},
   "outputs": [
    {
     "data": {
      "text/plain": [
       "(250, 250)"
      ]
     },
     "execution_count": 8,
     "metadata": {},
     "output_type": "execute_result"
    }
   ],
   "source": [
    "k_2D_test=np.load('/vagrant/sample_files/kspace.npy')\n",
    "np.shape(k_2D_test)\n"
   ]
  },
  {
   "cell_type": "code",
   "execution_count": 14,
   "metadata": {},
   "outputs": [
    {
     "data": {
      "image/png": "[encoded data removed]",
      "text/plain": [
       "<Figure size 640x480 with 1 Axes>"
      ]
     },
     "metadata": {},
     "output_type": "display_data"
    }
   ],
   "source": [
    "img = k_2D_test\n",
    "recon_img = np.fft.fftshift(np.fft.fftn(np.fft.fftshift(img)))\n",
    "# r = sp.fft(img)\n",
    "plt.figure()\n",
    "plt.imshow(np.abs(r[100:150, 50:150]), cmap='gray')\n",
    "plt.show()"
   ]
  },
  {
   "cell_type": "code",
   "execution_count": null,
   "metadata": {},
   "outputs": [],
   "source": [
    "    # if final_arr.ndim<3 or final_arr.ndim > 4 :\n",
    "        # logging.error(f\"Invalid shape of B0 data, expected 3 or 4 but got {np.ndim(k_space_B0_corr)}\")\n",
    "\n",
    "    # elif final_arr.ndim==3:\n",
    "    #     final_arr = np.expand_dims(final_arr, axis=-1)\n",
    "    \n",
    "    # for _ in range(final_arr.shape[-1]):\n",
    "    #     slice_data = final_arr[:,:,:,_] \n",
    "    #     fft_output = fft(slice_data)\n",
    "    #     np.append(final_arr, fft_output)\n",
    "\n",
    "\n",
    "def main():\n",
    "    test_B0= np.load('/vagrant/sample_files/test_data_kspace_d1s1.npy')\n",
    "    # test_B0= np.load('/vagrant/sample_files/kspace.npy')\n",
    "    # print(test_B0.shape)\n",
    "    img = final_recon(test_B0)\n",
    "\n",
    "if __name__=='__main__':\n",
    "    main()"
   ]
  },
  {
   "cell_type": "code",
   "execution_count": 19,
   "metadata": {},
   "outputs": [
    {
     "data": {
      "text/plain": [
       "(2, 250)"
      ]
     },
     "execution_count": 19,
     "metadata": {},
     "output_type": "execute_result"
    }
   ],
   "source": [
    "a = recon_img\n",
    "# a[[slice(0, 1[1]) for _ in a.shape]]\n",
    "a = a[0:2]\n",
    "np.shape(a)"
   ]
  }
 ],
 "metadata": {
  "kernelspec": {
   "display_name": "env",
   "language": "python",
   "name": "python3"
  },
  "language_info": {
   "codemirror_mode": {
    "name": "ipython",
    "version": 3
   },
   "file_extension": ".py",
   "mimetype": "text/x-python",
   "name": "python",
   "nbconvert_exporter": "python",
   "pygments_lexer": "ipython3",
   "version": "3.10.12"
  }
 },
 "nbformat": 4,
 "nbformat_minor": 2
}
